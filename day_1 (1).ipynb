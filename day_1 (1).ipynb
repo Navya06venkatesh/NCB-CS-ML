{
 "cells": [
  {
   "cell_type": "code",
   "execution_count": 1,
   "id": "9d025ee2-a65e-42bd-9ace-64e67f170d78",
   "metadata": {},
   "outputs": [
    {
     "data": {
      "text/plain": [
       "4"
      ]
     },
     "execution_count": 1,
     "metadata": {},
     "output_type": "execute_result"
    }
   ],
   "source": [
    "2+2"
   ]
  },
  {
   "cell_type": "code",
   "execution_count": null,
   "id": "f6b29cf6-25f3-4f29-adae-11e5fa66f4a0",
   "metadata": {},
   "outputs": [],
   "source": [
    "def msg():\n",
    "    print(\"Welcome to NCB\")"
   ]
  },
  {
   "cell_type": "markdown",
   "id": "d44e6076-c649-46b9-8e84-7c7ddae53009",
   "metadata": {},
   "source": [
    "msg()"
   ]
  },
  {
   "cell_type": "code",
   "execution_count": 5,
   "id": "64d5283e-59fe-468e-bf3d-f3a6b913a184",
   "metadata": {},
   "outputs": [],
   "source": [
    " def add_t(a,b=5,c=2):\n",
    "    return(a+b+c)"
   ]
  },
  {
   "cell_type": "code",
   "execution_count": 6,
   "id": "0614cbb4-565b-4670-a87a-98b7d4bc6c73",
   "metadata": {},
   "outputs": [
    {
     "data": {
      "text/plain": [
       "100"
      ]
     },
     "execution_count": 6,
     "metadata": {},
     "output_type": "execute_result"
    }
   ],
   "source": [
    "add_t(a=40,b=20,c=40)"
   ]
  },
  {
   "cell_type": "code",
   "execution_count": 7,
   "id": "0568ae85-16ef-432a-a259-ce1de7b98827",
   "metadata": {},
   "outputs": [
    {
     "data": {
      "text/plain": [
       "{'Name': ['Ram', 'Sham'], 'Age': [20, 40]}"
      ]
     },
     "execution_count": 7,
     "metadata": {},
     "output_type": "execute_result"
    }
   ],
   "source": [
    "d = {\"Name\":[\"Ram\",\"Sham\"],\"Age\":[20,40]}\n",
    "d"
   ]
  },
  {
   "cell_type": "code",
   "execution_count": 8,
   "id": "a074305d-f3de-4e9a-9395-cf21738e1741",
   "metadata": {},
   "outputs": [
    {
     "data": {
      "text/plain": [
       "['Ram', 'Sham']"
      ]
     },
     "execution_count": 8,
     "metadata": {},
     "output_type": "execute_result"
    }
   ],
   "source": [
    "d[\"Name\"]"
   ]
  },
  {
   "cell_type": "code",
   "execution_count": 9,
   "id": "a1f3365a-8b0e-42ad-9ad9-029ba35d76a2",
   "metadata": {},
   "outputs": [
    {
     "name": "stdout",
     "output_type": "stream",
     "text": [
      "Zero division error\n"
     ]
    }
   ],
   "source": [
    " try:\n",
    "     a = 2\n",
    "     b = 0\n",
    "     c = a/b\n",
    "     print(c)\n",
    " except:\n",
    "     print(\"Zero division error\")\n",
    "    "
   ]
  },
  {
   "cell_type": "code",
   "execution_count": 10,
   "id": "4155f160-1fff-43a7-9f3d-067b6efe9adb",
   "metadata": {},
   "outputs": [],
   "source": [
    "pow = lambda x:x**2"
   ]
  },
  {
   "cell_type": "code",
   "execution_count": 11,
   "id": "607c7850-43c8-41e8-924b-2bd1691acf6c",
   "metadata": {},
   "outputs": [
    {
     "data": {
      "text/plain": [
       "25"
      ]
     },
     "execution_count": 11,
     "metadata": {},
     "output_type": "execute_result"
    }
   ],
   "source": [
    "pow(5)"
   ]
  },
  {
   "cell_type": "code",
   "execution_count": 6,
   "id": "528b137d-a19f-4c36-aa1c-d72e5470f2e3",
   "metadata": {},
   "outputs": [],
   "source": [
    "def name(f_name,m_name,l_name):\n",
    "    print(\"My full name is {} {} {}\".format(f_name,m_name,l_name))"
   ]
  },
  {
   "cell_type": "code",
   "execution_count": 7,
   "id": "7900e3c9-646f-4d16-a14e-8dd9529e548c",
   "metadata": {},
   "outputs": [
    {
     "name": "stdout",
     "output_type": "stream",
     "text": [
      "My full name is Navya Shree U\n"
     ]
    }
   ],
   "source": [
    "name(\"Navya\",\"Shree\",\"U\")"
   ]
  },
  {
   "cell_type": "code",
   "execution_count": null,
   "id": "e227cb77-8929-4b6b-a87e-681d4c94dadc",
   "metadata": {},
   "outputs": [],
   "source": []
  }
 ],
 "metadata": {
  "kernelspec": {
   "display_name": "Python 3 (ipykernel)",
   "language": "python",
   "name": "python3"
  },
  "language_info": {
   "codemirror_mode": {
    "name": "ipython",
    "version": 3
   },
   "file_extension": ".py",
   "mimetype": "text/x-python",
   "name": "python",
   "nbconvert_exporter": "python",
   "pygments_lexer": "ipython3",
   "version": "3.11.7"
  }
 },
 "nbformat": 4,
 "nbformat_minor": 5
}
